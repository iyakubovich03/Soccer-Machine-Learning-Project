{
 "cells": [
  {
   "cell_type": "code",
   "execution_count": null,
   "id": "cb0a51a6-950e-4fb8-83ee-69b21a928729",
   "metadata": {},
   "outputs": [],
   "source": [
    "import requests\n",
    "import pandas as pd\n",
    "from bs4 import BeautifulSoup\n",
    "from io import StringIO\n",
    "import time\n",
    "all_matches=[]\n",
    "years=[2023,2022]\n",
    "all_matches=[]\n",
    "standing_url=\"https://fbref.com/en/comps/9/Premier-League-Stats\"\n",
    "for y in years:\n",
    "    data = requests.get(standing_url)\n",
    "    soup = BeautifulSoup(data.text)\n",
    "    standing_table = soup.select(\"table.stats_table\")[0]\n",
    "   \n",
    "    links = standing_table.find_all(\"a\")\n",
    "    links = [ l.get(\"href\") for l in links]\n",
    "    links = [l for l in links if \"/squads/\" in l]\n",
    "    links = [f\"https://fbref.com{l}\" for l in links]\n",
    "    previous_season = soup.select(\"a.prev\")[0].get(\"href\")\n",
    "    standing_url=f\"https://fbref.com{previous_season}\"\n",
    "    for l in links:\n",
    "        team_n = l.split(\"/\")[-1].replace(\"-Stats\",\"\").replace(\"-\",\" \")\n",
    "        data = requests.get(l)\n",
    "        matches= pd.read_html(StringIO(data.text),match = \"Scores & Fixtures\")[0]\n",
    "        soup= BeautifulSoup(data.text)\n",
    "        nlinks = soup.find_all(\"a\")\n",
    "        \n",
    "        nlinks = [i.get(\"href\") for i in nlinks]\n",
    "        nlinks = [i for i in nlinks if i and \"all_comps/shooting/\" in i]\n",
    "      \n",
    "        \n",
    "        data = requests.get(f\"https://fbref.com{nlinks[0]}\")\n",
    "        \n",
    "        shooting = pd.read_html(StringIO(data.text),match =\"Shooting\")[0]\n",
    "        shooting.columns=shooting.columns.droplevel()\n",
    "\n",
    "        try: \n",
    "             team = matches.merge(shooting[[\"Date\",\"Sh\",\"SoT\",\"Dist\", \"FK\", \"PK\", \"PKatt\"]], on = \"Date\")\n",
    "        except ValueError:\n",
    "            continue\n",
    "        team = team[team[\"Comp\"] == \"Premier League\"]\n",
    "        team[\"Seasons\"]=y\n",
    "        team[\"Team\"]=team_n\n",
    "        all_matches.append(team)\n",
    "        time.sleep(2)\n",
    "    \n",
    "match_tot = pd.concat(all_matches)\n",
    "match_tot.columns = [i.lower() for i in match_tot.columns]\n",
    "match_tot.to_csv(\"matches.csv\") #panda method that writes the dataframe to a csv file"
   ]
  },
  {
   "cell_type": "code",
   "execution_count": null,
   "id": "78e319e8-37a5-4d43-9d99-2da25a62d0be",
   "metadata": {},
   "outputs": [],
   "source": []
  },
  {
   "cell_type": "code",
   "execution_count": null,
   "id": "0598cf4a-4aab-4d38-a516-03323f25da71",
   "metadata": {},
   "outputs": [],
   "source": []
  }
 ],
 "metadata": {
  "kernelspec": {
   "display_name": "Python 3 (ipykernel)",
   "language": "python",
   "name": "python3"
  },
  "language_info": {
   "codemirror_mode": {
    "name": "ipython",
    "version": 3
   },
   "file_extension": ".py",
   "mimetype": "text/x-python",
   "name": "python",
   "nbconvert_exporter": "python",
   "pygments_lexer": "ipython3",
   "version": "3.11.4"
  }
 },
 "nbformat": 4,
 "nbformat_minor": 5
}
